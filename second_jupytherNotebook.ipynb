{
 "cells": [
  {
   "cell_type": "code",
   "execution_count": 100,
   "metadata": {},
   "outputs": [
    {
     "data": {
      "text/html": [
       "<div>\n",
       "<style scoped>\n",
       "    .dataframe tbody tr th:only-of-type {\n",
       "        vertical-align: middle;\n",
       "    }\n",
       "\n",
       "    .dataframe tbody tr th {\n",
       "        vertical-align: top;\n",
       "    }\n",
       "\n",
       "    .dataframe thead th {\n",
       "        text-align: right;\n",
       "    }\n",
       "</style>\n",
       "<table border=\"1\" class=\"dataframe\">\n",
       "  <thead>\n",
       "    <tr style=\"text-align: right;\">\n",
       "      <th></th>\n",
       "      <th>APPLICATION_TYPE</th>\n",
       "      <th>AFFILIATION</th>\n",
       "      <th>CLASSIFICATION</th>\n",
       "      <th>USE_CASE</th>\n",
       "      <th>ORGANIZATION</th>\n",
       "      <th>STATUS</th>\n",
       "      <th>INCOME_AMT</th>\n",
       "      <th>SPECIAL_CONSIDERATIONS</th>\n",
       "      <th>ASK_AMT</th>\n",
       "      <th>IS_SUCCESSFUL</th>\n",
       "    </tr>\n",
       "  </thead>\n",
       "  <tbody>\n",
       "    <tr>\n",
       "      <th>0</th>\n",
       "      <td>T10</td>\n",
       "      <td>Independent</td>\n",
       "      <td>C1000</td>\n",
       "      <td>ProductDev</td>\n",
       "      <td>Association</td>\n",
       "      <td>1</td>\n",
       "      <td>0</td>\n",
       "      <td>N</td>\n",
       "      <td>5000</td>\n",
       "      <td>1</td>\n",
       "    </tr>\n",
       "  </tbody>\n",
       "</table>\n",
       "</div>"
      ],
      "text/plain": [
       "  APPLICATION_TYPE  AFFILIATION CLASSIFICATION    USE_CASE ORGANIZATION  \\\n",
       "0              T10  Independent          C1000  ProductDev  Association   \n",
       "\n",
       "   STATUS INCOME_AMT SPECIAL_CONSIDERATIONS  ASK_AMT  IS_SUCCESSFUL  \n",
       "0       1          0                      N     5000              1  "
      ]
     },
     "execution_count": 100,
     "metadata": {},
     "output_type": "execute_result"
    }
   ],
   "source": [
    "from sklearn.model_selection import train_test_split\n",
    "from sklearn.preprocessing import StandardScaler\n",
    "import pandas as pd\n",
    "import tensorflow as tf\n",
    "import pandas as pd \n",
    "app_df = pd.read_csv(\"https://static.bc-edx.com/data/dl-1-2/m21/lms/starter/charity_data.csv\")\n",
    "df=app_df.copy().drop(columns=['EIN','NAME'])\n",
    "df.head(1) # It has 34299 rows"
   ]
  },
  {
   "cell_type": "code",
   "execution_count": 101,
   "metadata": {},
   "outputs": [
    {
     "data": {
      "text/plain": [
       "T3     27037\n",
       "T4      1542\n",
       "T6      1216\n",
       "T5      1173\n",
       "T19     1065\n",
       "Name: APPLICATION_TYPE, dtype: int64"
      ]
     },
     "execution_count": 101,
     "metadata": {},
     "output_type": "execute_result"
    }
   ],
   "source": [
    "show_app= df['APPLICATION_TYPE'].value_counts()\n",
    "show_app= show_app[show_app < 1065]\n",
    "show_app=show_app.copy()\n",
    "\n",
    "def update_app(value):\n",
    "    if value in show_app:\n",
    "        return 'OTHER'\n",
    "    else:\n",
    "        return value\n",
    "df['APPLICATION_TYPE'] = df['APPLICATION_TYPE'].apply(update_app)\n",
    "df= df.drop(df[df['APPLICATION_TYPE'] == 'OTHER'].index)\n",
    "df['APPLICATION_TYPE'].value_counts()"
   ]
  },
  {
   "cell_type": "code",
   "execution_count": 102,
   "metadata": {},
   "outputs": [
    {
     "data": {
      "text/plain": [
       "C1000    15093\n",
       "C2000     6045\n",
       "C1200     4836\n",
       "C3000     1918\n",
       "Name: CLASSIFICATION, dtype: int64"
      ]
     },
     "execution_count": 102,
     "metadata": {},
     "output_type": "execute_result"
    }
   ],
   "source": [
    "show_class= df['CLASSIFICATION'].value_counts().copy()\n",
    "show_class= show_class[show_class < 1918]\n",
    "show_class=show_class.copy()\n",
    "\n",
    "def update_app(value):\n",
    "    if value in show_class:\n",
    "        return 'OTHER'\n",
    "    else:\n",
    "        return value\n",
    "df['CLASSIFICATION'] = df['CLASSIFICATION'].apply(update_app)\n",
    "df= df.drop(df[df['CLASSIFICATION'] == 'OTHER'].index)\n",
    "df['CLASSIFICATION'].value_counts()"
   ]
  },
  {
   "cell_type": "code",
   "execution_count": 103,
   "metadata": {},
   "outputs": [],
   "source": [
    "Do_not_touch = ['STATUS','IS_SUCCESSFUL']\n",
    "Do_touch = [\n",
    "    'APPLICATION_TYPE',\n",
    "    'AFFILIATION',\n",
    "    'CLASSIFICATION',\n",
    "    'USE_CASE',\n",
    "    'ORGANIZATION',\n",
    "    'INCOME_AMT',\n",
    "    'SPECIAL_CONSIDERATIONS',\n",
    "    'ASK_AMT'\n",
    "]\n",
    "\n",
    "dummies = pd.get_dummies(df[Do_touch])\n",
    "df= pd.concat([df, dummies], axis=1)\n",
    "df= df.drop(columns=Do_touch)"
   ]
  },
  {
   "cell_type": "code",
   "execution_count": 120,
   "metadata": {},
   "outputs": [],
   "source": [
    "X=df.drop(columns='IS_SUCCESSFUL')\n",
    "y=df['IS_SUCCESSFUL']\n",
    "X_train, X_test, y_train, y_test = train_test_split(X, y, random_state=10)"
   ]
  },
  {
   "cell_type": "code",
   "execution_count": 121,
   "metadata": {},
   "outputs": [],
   "source": [
    "scaler = StandardScaler()\n",
    "xs= scaler.fit(X_train)\n",
    "\n",
    "X_train_scaled = xs.transform(X_train)\n",
    "X_test_scaled = xs.transform(X_test)"
   ]
  },
  {
   "cell_type": "markdown",
   "metadata": {},
   "source": [
    "## Compile, Train and Evaluate the Model"
   ]
  },
  {
   "cell_type": "code",
   "execution_count": 123,
   "metadata": {},
   "outputs": [],
   "source": [
    "nn = tf.keras.models.Sequential()\n",
    "\n",
    "nn.add(tf.keras.layers.Dense(units=100, input_dim=36, activation='relu'))#tanh\n",
    "\n",
    "nn.add(tf.keras.layers.Dense(units=100, activation='relu'))\n",
    "nn.add(tf.keras.layers.Dense(units=100, activation='tanh'))\n",
    "nn.add(tf.keras.layers.Dense(units=100, activation='relu'))\n",
    "\n",
    "nn.add(tf.keras.layers.Dense(units=1, activation='sigmoid')) # Binary label prediction"
   ]
  },
  {
   "cell_type": "code",
   "execution_count": 124,
   "metadata": {},
   "outputs": [
    {
     "name": "stdout",
     "output_type": "stream",
     "text": [
      "Model: \"sequential_18\"\n",
      "_________________________________________________________________\n",
      " Layer (type)                Output Shape              Param #   \n",
      "=================================================================\n",
      " dense_76 (Dense)            (None, 100)               3700      \n",
      "                                                                 \n",
      " dense_77 (Dense)            (None, 100)               10100     \n",
      "                                                                 \n",
      " dense_78 (Dense)            (None, 100)               10100     \n",
      "                                                                 \n",
      " dense_79 (Dense)            (None, 100)               10100     \n",
      "                                                                 \n",
      " dense_80 (Dense)            (None, 1)                 101       \n",
      "                                                                 \n",
      "=================================================================\n",
      "Total params: 34101 (133.21 KB)\n",
      "Trainable params: 34101 (133.21 KB)\n",
      "Non-trainable params: 0 (0.00 Byte)\n",
      "_________________________________________________________________\n"
     ]
    }
   ],
   "source": [
    "nn.summary()"
   ]
  },
  {
   "cell_type": "code",
   "execution_count": 125,
   "metadata": {},
   "outputs": [],
   "source": [
    "nn.compile(\n",
    "    loss = 'binary_crossentropy', # This loss function is needed for Binary label prediction\n",
    "    optimizer='adam', # The algorith for gradient descent\n",
    "    metrics=['accuracy'] # The metrics to improve the model\n",
    ")"
   ]
  },
  {
   "cell_type": "code",
   "execution_count": 126,
   "metadata": {},
   "outputs": [
    {
     "name": "stdout",
     "output_type": "stream",
     "text": [
      "Epoch 1/100\n",
      "654/654 [==============================] - 4s 4ms/step - loss: 0.5815 - accuracy: 0.7098\n",
      "Epoch 2/100\n",
      "654/654 [==============================] - 2s 4ms/step - loss: 0.5694 - accuracy: 0.7190\n",
      "Epoch 3/100\n",
      "654/654 [==============================] - 3s 4ms/step - loss: 0.5665 - accuracy: 0.7193\n",
      "Epoch 4/100\n",
      "654/654 [==============================] - 3s 4ms/step - loss: 0.5647 - accuracy: 0.7191\n",
      "Epoch 5/100\n",
      "654/654 [==============================] - 3s 4ms/step - loss: 0.5639 - accuracy: 0.7205\n",
      "Epoch 6/100\n",
      "654/654 [==============================] - 3s 4ms/step - loss: 0.5639 - accuracy: 0.7222\n",
      "Epoch 7/100\n",
      "654/654 [==============================] - 3s 4ms/step - loss: 0.5623 - accuracy: 0.7213\n",
      "Epoch 8/100\n",
      "654/654 [==============================] - 2s 4ms/step - loss: 0.5621 - accuracy: 0.7220\n",
      "Epoch 9/100\n",
      "654/654 [==============================] - 2s 3ms/step - loss: 0.5612 - accuracy: 0.7223\n",
      "Epoch 10/100\n",
      "654/654 [==============================] - 2s 4ms/step - loss: 0.5610 - accuracy: 0.7229\n",
      "Epoch 11/100\n",
      "654/654 [==============================] - 3s 4ms/step - loss: 0.5596 - accuracy: 0.7235\n",
      "Epoch 12/100\n",
      "654/654 [==============================] - 3s 4ms/step - loss: 0.5599 - accuracy: 0.7245\n",
      "Epoch 13/100\n",
      "654/654 [==============================] - 2s 3ms/step - loss: 0.5593 - accuracy: 0.7231\n",
      "Epoch 14/100\n",
      "654/654 [==============================] - 2s 4ms/step - loss: 0.5589 - accuracy: 0.7236\n",
      "Epoch 15/100\n",
      "654/654 [==============================] - 3s 4ms/step - loss: 0.5579 - accuracy: 0.7242\n",
      "Epoch 16/100\n",
      "654/654 [==============================] - 3s 4ms/step - loss: 0.5579 - accuracy: 0.7248\n",
      "Epoch 17/100\n",
      "654/654 [==============================] - 2s 4ms/step - loss: 0.5579 - accuracy: 0.7258\n",
      "Epoch 18/100\n",
      "654/654 [==============================] - 2s 4ms/step - loss: 0.5579 - accuracy: 0.7261\n",
      "Epoch 19/100\n",
      "654/654 [==============================] - 3s 4ms/step - loss: 0.5579 - accuracy: 0.7254\n",
      "Epoch 20/100\n",
      "654/654 [==============================] - 2s 4ms/step - loss: 0.5576 - accuracy: 0.7262\n",
      "Epoch 21/100\n",
      "654/654 [==============================] - 3s 4ms/step - loss: 0.5566 - accuracy: 0.7258\n",
      "Epoch 22/100\n",
      "654/654 [==============================] - 3s 4ms/step - loss: 0.5568 - accuracy: 0.7256\n",
      "Epoch 23/100\n",
      "654/654 [==============================] - 3s 4ms/step - loss: 0.5562 - accuracy: 0.7265\n",
      "Epoch 24/100\n",
      "654/654 [==============================] - 3s 4ms/step - loss: 0.5567 - accuracy: 0.7256\n",
      "Epoch 25/100\n",
      "654/654 [==============================] - 3s 4ms/step - loss: 0.5557 - accuracy: 0.7265\n",
      "Epoch 26/100\n",
      "654/654 [==============================] - 3s 4ms/step - loss: 0.5559 - accuracy: 0.7271\n",
      "Epoch 27/100\n",
      "654/654 [==============================] - 3s 4ms/step - loss: 0.5558 - accuracy: 0.7265\n",
      "Epoch 28/100\n",
      "654/654 [==============================] - 3s 5ms/step - loss: 0.5553 - accuracy: 0.7267\n",
      "Epoch 29/100\n",
      "654/654 [==============================] - 2s 4ms/step - loss: 0.5553 - accuracy: 0.7269\n",
      "Epoch 30/100\n",
      "654/654 [==============================] - 3s 4ms/step - loss: 0.5555 - accuracy: 0.7259\n",
      "Epoch 31/100\n",
      "654/654 [==============================] - 3s 4ms/step - loss: 0.5546 - accuracy: 0.7256\n",
      "Epoch 32/100\n",
      "654/654 [==============================] - 3s 4ms/step - loss: 0.5547 - accuracy: 0.7263\n",
      "Epoch 33/100\n",
      "654/654 [==============================] - 2s 4ms/step - loss: 0.5543 - accuracy: 0.7274\n",
      "Epoch 34/100\n",
      "654/654 [==============================] - 3s 4ms/step - loss: 0.5545 - accuracy: 0.7269\n",
      "Epoch 35/100\n",
      "654/654 [==============================] - 2s 4ms/step - loss: 0.5547 - accuracy: 0.7271\n",
      "Epoch 36/100\n",
      "654/654 [==============================] - 3s 4ms/step - loss: 0.5540 - accuracy: 0.7268\n",
      "Epoch 37/100\n",
      "654/654 [==============================] - 2s 4ms/step - loss: 0.5539 - accuracy: 0.7267\n",
      "Epoch 38/100\n",
      "654/654 [==============================] - 2s 4ms/step - loss: 0.5538 - accuracy: 0.7275\n",
      "Epoch 39/100\n",
      "654/654 [==============================] - 2s 4ms/step - loss: 0.5539 - accuracy: 0.7266\n",
      "Epoch 40/100\n",
      "654/654 [==============================] - 2s 3ms/step - loss: 0.5534 - accuracy: 0.7269\n",
      "Epoch 41/100\n",
      "654/654 [==============================] - 2s 4ms/step - loss: 0.5536 - accuracy: 0.7274\n",
      "Epoch 42/100\n",
      "654/654 [==============================] - 2s 4ms/step - loss: 0.5532 - accuracy: 0.7268\n",
      "Epoch 43/100\n",
      "654/654 [==============================] - 2s 3ms/step - loss: 0.5532 - accuracy: 0.7274\n",
      "Epoch 44/100\n",
      "654/654 [==============================] - 2s 4ms/step - loss: 0.5529 - accuracy: 0.7280\n",
      "Epoch 45/100\n",
      "654/654 [==============================] - 2s 4ms/step - loss: 0.5527 - accuracy: 0.7279\n",
      "Epoch 46/100\n",
      "654/654 [==============================] - 2s 4ms/step - loss: 0.5522 - accuracy: 0.7274\n",
      "Epoch 47/100\n",
      "654/654 [==============================] - 2s 4ms/step - loss: 0.5529 - accuracy: 0.7277\n",
      "Epoch 48/100\n",
      "654/654 [==============================] - 2s 3ms/step - loss: 0.5527 - accuracy: 0.7278\n",
      "Epoch 49/100\n",
      "654/654 [==============================] - 2s 4ms/step - loss: 0.5527 - accuracy: 0.7275\n",
      "Epoch 50/100\n",
      "654/654 [==============================] - 2s 4ms/step - loss: 0.5525 - accuracy: 0.7278\n",
      "Epoch 51/100\n",
      "654/654 [==============================] - 2s 4ms/step - loss: 0.5525 - accuracy: 0.7269\n",
      "Epoch 52/100\n",
      "654/654 [==============================] - 2s 3ms/step - loss: 0.5520 - accuracy: 0.7274\n",
      "Epoch 53/100\n",
      "654/654 [==============================] - 2s 4ms/step - loss: 0.5519 - accuracy: 0.7276\n",
      "Epoch 54/100\n",
      "654/654 [==============================] - 2s 4ms/step - loss: 0.5519 - accuracy: 0.7275\n",
      "Epoch 55/100\n",
      "654/654 [==============================] - 2s 4ms/step - loss: 0.5515 - accuracy: 0.7274\n",
      "Epoch 56/100\n",
      "654/654 [==============================] - 2s 4ms/step - loss: 0.5518 - accuracy: 0.7274\n",
      "Epoch 57/100\n",
      "654/654 [==============================] - 2s 4ms/step - loss: 0.5513 - accuracy: 0.7279\n",
      "Epoch 58/100\n",
      "654/654 [==============================] - 2s 4ms/step - loss: 0.5511 - accuracy: 0.7281\n",
      "Epoch 59/100\n",
      "654/654 [==============================] - 2s 4ms/step - loss: 0.5517 - accuracy: 0.7279\n",
      "Epoch 60/100\n",
      "654/654 [==============================] - 2s 3ms/step - loss: 0.5507 - accuracy: 0.7272\n",
      "Epoch 61/100\n",
      "654/654 [==============================] - 2s 4ms/step - loss: 0.5505 - accuracy: 0.7276\n",
      "Epoch 62/100\n",
      "654/654 [==============================] - 2s 3ms/step - loss: 0.5516 - accuracy: 0.7270\n",
      "Epoch 63/100\n",
      "654/654 [==============================] - 2s 4ms/step - loss: 0.5520 - accuracy: 0.7280\n",
      "Epoch 64/100\n",
      "654/654 [==============================] - 2s 4ms/step - loss: 0.5506 - accuracy: 0.7285\n",
      "Epoch 65/100\n",
      "654/654 [==============================] - 2s 3ms/step - loss: 0.5508 - accuracy: 0.7274\n",
      "Epoch 66/100\n",
      "654/654 [==============================] - 3s 4ms/step - loss: 0.5502 - accuracy: 0.7285\n",
      "Epoch 67/100\n",
      "654/654 [==============================] - 2s 4ms/step - loss: 0.5504 - accuracy: 0.7276\n",
      "Epoch 68/100\n",
      "654/654 [==============================] - 2s 3ms/step - loss: 0.5500 - accuracy: 0.7279\n",
      "Epoch 69/100\n",
      "654/654 [==============================] - 2s 4ms/step - loss: 0.5503 - accuracy: 0.7273\n",
      "Epoch 70/100\n",
      "654/654 [==============================] - 2s 3ms/step - loss: 0.5522 - accuracy: 0.7286\n",
      "Epoch 71/100\n",
      "654/654 [==============================] - 2s 4ms/step - loss: 0.5504 - accuracy: 0.7280\n",
      "Epoch 72/100\n",
      "654/654 [==============================] - 2s 3ms/step - loss: 0.5500 - accuracy: 0.7282\n",
      "Epoch 73/100\n",
      "654/654 [==============================] - 2s 4ms/step - loss: 0.5502 - accuracy: 0.7285\n",
      "Epoch 74/100\n",
      "654/654 [==============================] - 2s 4ms/step - loss: 0.5500 - accuracy: 0.7289\n",
      "Epoch 75/100\n",
      "654/654 [==============================] - 2s 4ms/step - loss: 0.5508 - accuracy: 0.7283\n",
      "Epoch 76/100\n",
      "654/654 [==============================] - 2s 4ms/step - loss: 0.5503 - accuracy: 0.7276\n",
      "Epoch 77/100\n",
      "654/654 [==============================] - 2s 4ms/step - loss: 0.5499 - accuracy: 0.7277\n",
      "Epoch 78/100\n",
      "654/654 [==============================] - 2s 4ms/step - loss: 0.5509 - accuracy: 0.7281\n",
      "Epoch 79/100\n",
      "654/654 [==============================] - 2s 4ms/step - loss: 0.5508 - accuracy: 0.7269\n",
      "Epoch 80/100\n",
      "654/654 [==============================] - 2s 3ms/step - loss: 0.5496 - accuracy: 0.7285\n",
      "Epoch 81/100\n",
      "654/654 [==============================] - 2s 4ms/step - loss: 0.5503 - accuracy: 0.7276\n",
      "Epoch 82/100\n",
      "654/654 [==============================] - 2s 4ms/step - loss: 0.5501 - accuracy: 0.7280\n",
      "Epoch 83/100\n",
      "654/654 [==============================] - 2s 4ms/step - loss: 0.5496 - accuracy: 0.7280\n",
      "Epoch 84/100\n",
      "654/654 [==============================] - 2s 3ms/step - loss: 0.5494 - accuracy: 0.7283\n",
      "Epoch 85/100\n",
      "654/654 [==============================] - 2s 4ms/step - loss: 0.5493 - accuracy: 0.7288\n",
      "Epoch 86/100\n",
      "654/654 [==============================] - 2s 4ms/step - loss: 0.5496 - accuracy: 0.7274\n",
      "Epoch 87/100\n",
      "654/654 [==============================] - 3s 4ms/step - loss: 0.5496 - accuracy: 0.7286\n",
      "Epoch 88/100\n",
      "654/654 [==============================] - 2s 4ms/step - loss: 0.5497 - accuracy: 0.7290\n",
      "Epoch 89/100\n",
      "654/654 [==============================] - 2s 3ms/step - loss: 0.5502 - accuracy: 0.7281\n",
      "Epoch 90/100\n",
      "654/654 [==============================] - 2s 4ms/step - loss: 0.5496 - accuracy: 0.7291\n",
      "Epoch 91/100\n",
      "654/654 [==============================] - 2s 4ms/step - loss: 0.5496 - accuracy: 0.7289\n",
      "Epoch 92/100\n",
      "654/654 [==============================] - 2s 4ms/step - loss: 0.5490 - accuracy: 0.7279\n",
      "Epoch 93/100\n",
      "654/654 [==============================] - 2s 3ms/step - loss: 0.5499 - accuracy: 0.7283\n",
      "Epoch 94/100\n",
      "654/654 [==============================] - 2s 4ms/step - loss: 0.5525 - accuracy: 0.7280\n",
      "Epoch 95/100\n",
      "654/654 [==============================] - 2s 4ms/step - loss: 0.5499 - accuracy: 0.7278\n",
      "Epoch 96/100\n",
      "654/654 [==============================] - 2s 4ms/step - loss: 0.5510 - accuracy: 0.7278\n",
      "Epoch 97/100\n",
      "654/654 [==============================] - 2s 4ms/step - loss: 0.5491 - accuracy: 0.7288\n",
      "Epoch 98/100\n",
      "654/654 [==============================] - 2s 4ms/step - loss: 0.5496 - accuracy: 0.7291\n",
      "Epoch 99/100\n",
      "654/654 [==============================] - 2s 3ms/step - loss: 0.5489 - accuracy: 0.7286\n",
      "Epoch 100/100\n",
      "654/654 [==============================] - 2s 4ms/step - loss: 0.5491 - accuracy: 0.7286\n"
     ]
    },
    {
     "data": {
      "text/plain": [
       "<keras.src.callbacks.History at 0x27b7dcc4640>"
      ]
     },
     "execution_count": 126,
     "metadata": {},
     "output_type": "execute_result"
    }
   ],
   "source": [
    "\n",
    "nn.fit(X_train_scaled, y_train, epochs=100)"
   ]
  },
  {
   "cell_type": "markdown",
   "metadata": {},
   "source": [
    "# After multiple tries the best I can find was 72.86\n",
    "- Even I try with a low data set, droping all the rows named 'OTHER' and tryin with different hidden layers the result of accuracy continue n ot arriving to 75 or above."
   ]
  },
  {
   "cell_type": "code",
   "execution_count": 129,
   "metadata": {},
   "outputs": [
    {
     "name": "stdout",
     "output_type": "stream",
     "text": [
      "218/218 - 0s - loss: 0.6000 - accuracy: 0.7119 - 453ms/epoch - 2ms/step\n",
      "Loss: 0.5999714732170105, Accuracy: 0.7118887305259705\n"
     ]
    }
   ],
   "source": [
    "model_loss, model_accuracy = nn.evaluate(X_test_scaled,y_test,verbose=2)\n",
    "print(f\"Loss: {model_loss}, Accuracy: {model_accuracy}\")"
   ]
  },
  {
   "cell_type": "code",
   "execution_count": 130,
   "metadata": {},
   "outputs": [
    {
     "name": "stdout",
     "output_type": "stream",
     "text": [
      "Model saved to :  AlphabetSoupCharity_Optimization.h5\n"
     ]
    }
   ],
   "source": [
    "# Export our model to HDF5 file\n",
    "#  YOUR CODE GOES HERE\n",
    "import h5py\n",
    "hdf5_filename = 'AlphabetSoupCharity_Optimization.h5'\n",
    "nn.save(hdf5_filename)\n",
    "print('Model saved to : ',hdf5_filename)"
   ]
  }
 ],
 "metadata": {
  "kernelspec": {
   "display_name": "Python 3",
   "language": "python",
   "name": "python3"
  },
  "language_info": {
   "codemirror_mode": {
    "name": "ipython",
    "version": 3
   },
   "file_extension": ".py",
   "mimetype": "text/x-python",
   "name": "python",
   "nbconvert_exporter": "python",
   "pygments_lexer": "ipython3",
   "version": "3.9.13"
  },
  "vscode": {
   "interpreter": {
    "hash": "31f2aee4e71d21fbe5cf8b01ff0e069b9275f58929596ceb00d14d90e3e16cd6"
   }
  }
 },
 "nbformat": 4,
 "nbformat_minor": 4
}
