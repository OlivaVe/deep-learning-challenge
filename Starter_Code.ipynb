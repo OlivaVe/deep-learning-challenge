{
 "cells": [
  {
   "cell_type": "markdown",
   "metadata": {},
   "source": [
    "## Preprocessing"
   ]
  },
  {
   "cell_type": "code",
   "execution_count": 1,
   "metadata": {},
   "outputs": [
    {
     "data": {
      "text/html": [
       "<div>\n",
       "<style scoped>\n",
       "    .dataframe tbody tr th:only-of-type {\n",
       "        vertical-align: middle;\n",
       "    }\n",
       "\n",
       "    .dataframe tbody tr th {\n",
       "        vertical-align: top;\n",
       "    }\n",
       "\n",
       "    .dataframe thead th {\n",
       "        text-align: right;\n",
       "    }\n",
       "</style>\n",
       "<table border=\"1\" class=\"dataframe\">\n",
       "  <thead>\n",
       "    <tr style=\"text-align: right;\">\n",
       "      <th></th>\n",
       "      <th>EIN</th>\n",
       "      <th>NAME</th>\n",
       "      <th>APPLICATION_TYPE</th>\n",
       "      <th>AFFILIATION</th>\n",
       "      <th>CLASSIFICATION</th>\n",
       "      <th>USE_CASE</th>\n",
       "      <th>ORGANIZATION</th>\n",
       "      <th>STATUS</th>\n",
       "      <th>INCOME_AMT</th>\n",
       "      <th>SPECIAL_CONSIDERATIONS</th>\n",
       "      <th>ASK_AMT</th>\n",
       "      <th>IS_SUCCESSFUL</th>\n",
       "    </tr>\n",
       "  </thead>\n",
       "  <tbody>\n",
       "    <tr>\n",
       "      <th>0</th>\n",
       "      <td>10520599</td>\n",
       "      <td>BLUE KNIGHTS MOTORCYCLE CLUB</td>\n",
       "      <td>T10</td>\n",
       "      <td>Independent</td>\n",
       "      <td>C1000</td>\n",
       "      <td>ProductDev</td>\n",
       "      <td>Association</td>\n",
       "      <td>1</td>\n",
       "      <td>0</td>\n",
       "      <td>N</td>\n",
       "      <td>5000</td>\n",
       "      <td>1</td>\n",
       "    </tr>\n",
       "  </tbody>\n",
       "</table>\n",
       "</div>"
      ],
      "text/plain": [
       "        EIN                          NAME APPLICATION_TYPE  AFFILIATION  \\\n",
       "0  10520599  BLUE KNIGHTS MOTORCYCLE CLUB              T10  Independent   \n",
       "\n",
       "  CLASSIFICATION    USE_CASE ORGANIZATION  STATUS INCOME_AMT  \\\n",
       "0          C1000  ProductDev  Association       1          0   \n",
       "\n",
       "  SPECIAL_CONSIDERATIONS  ASK_AMT  IS_SUCCESSFUL  \n",
       "0                      N     5000              1  "
      ]
     },
     "execution_count": 1,
     "metadata": {},
     "output_type": "execute_result"
    }
   ],
   "source": [
    "# Import our dependencies\n",
    "from sklearn.model_selection import train_test_split\n",
    "from sklearn.preprocessing import StandardScaler\n",
    "import pandas as pd\n",
    "import tensorflow as tf\n",
    "\n",
    "#  Import and read the charity_data.csv.\n",
    "import pandas as pd \n",
    "application_df = pd.read_csv(\"https://static.bc-edx.com/data/dl-1-2/m21/lms/starter/charity_data.csv\")\n",
    "application_df.head(1) # It has 34299 rows"
   ]
  },
  {
   "cell_type": "markdown",
   "metadata": {},
   "source": [
    "What variable(s) are the target(s) for your model?\n",
    "`IS_SUCCESSFUL`\n",
    "\n",
    "What variable(s) are the feature(s) for your model?\n",
    "`APPLICATION_TYPE`,`AFFILIATION\tCLASSIFICATION`, `USE_CASE`, `ORGANIZATION`, `STATUS`, `INCOME_AMT`, `SPECIAL_CONSIDERATIONS`, `ASK_AMT`"
   ]
  },
  {
   "cell_type": "code",
   "execution_count": 2,
   "metadata": {},
   "outputs": [
    {
     "data": {
      "text/html": [
       "<div>\n",
       "<style scoped>\n",
       "    .dataframe tbody tr th:only-of-type {\n",
       "        vertical-align: middle;\n",
       "    }\n",
       "\n",
       "    .dataframe tbody tr th {\n",
       "        vertical-align: top;\n",
       "    }\n",
       "\n",
       "    .dataframe thead th {\n",
       "        text-align: right;\n",
       "    }\n",
       "</style>\n",
       "<table border=\"1\" class=\"dataframe\">\n",
       "  <thead>\n",
       "    <tr style=\"text-align: right;\">\n",
       "      <th></th>\n",
       "      <th>APPLICATION_TYPE</th>\n",
       "      <th>AFFILIATION</th>\n",
       "      <th>CLASSIFICATION</th>\n",
       "      <th>USE_CASE</th>\n",
       "      <th>ORGANIZATION</th>\n",
       "      <th>STATUS</th>\n",
       "      <th>INCOME_AMT</th>\n",
       "      <th>SPECIAL_CONSIDERATIONS</th>\n",
       "      <th>ASK_AMT</th>\n",
       "      <th>IS_SUCCESSFUL</th>\n",
       "    </tr>\n",
       "  </thead>\n",
       "  <tbody>\n",
       "    <tr>\n",
       "      <th>0</th>\n",
       "      <td>T10</td>\n",
       "      <td>Independent</td>\n",
       "      <td>C1000</td>\n",
       "      <td>ProductDev</td>\n",
       "      <td>Association</td>\n",
       "      <td>1</td>\n",
       "      <td>0</td>\n",
       "      <td>N</td>\n",
       "      <td>5000</td>\n",
       "      <td>1</td>\n",
       "    </tr>\n",
       "  </tbody>\n",
       "</table>\n",
       "</div>"
      ],
      "text/plain": [
       "  APPLICATION_TYPE  AFFILIATION CLASSIFICATION    USE_CASE ORGANIZATION  \\\n",
       "0              T10  Independent          C1000  ProductDev  Association   \n",
       "\n",
       "   STATUS INCOME_AMT SPECIAL_CONSIDERATIONS  ASK_AMT  IS_SUCCESSFUL  \n",
       "0       1          0                      N     5000              1  "
      ]
     },
     "execution_count": 2,
     "metadata": {},
     "output_type": "execute_result"
    }
   ],
   "source": [
    "# Drop the non-beneficial ID columns, 'EIN' and 'NAME'.\n",
    "#  YOUR CODE GOES HERE\n",
    "app_df=application_df.copy().drop(columns=['EIN','NAME'])\n",
    "app_df.head(1) # It has 34299 rows"
   ]
  },
  {
   "cell_type": "code",
   "execution_count": 3,
   "metadata": {},
   "outputs": [
    {
     "data": {
      "text/plain": [
       "APPLICATION_TYPE            17\n",
       "AFFILIATION                  6\n",
       "CLASSIFICATION              71\n",
       "USE_CASE                     5\n",
       "ORGANIZATION                 4\n",
       "STATUS                       2\n",
       "INCOME_AMT                   9\n",
       "SPECIAL_CONSIDERATIONS       2\n",
       "ASK_AMT                   8747\n",
       "IS_SUCCESSFUL                2\n",
       "dtype: int64"
      ]
     },
     "execution_count": 3,
     "metadata": {},
     "output_type": "execute_result"
    }
   ],
   "source": [
    "# Determine the number of unique values in each column.\n",
    "#  YOUR CODE GOES HERE\n",
    "app_df.nunique()"
   ]
  },
  {
   "cell_type": "code",
   "execution_count": 4,
   "metadata": {},
   "outputs": [
    {
     "data": {
      "text/plain": [
       "T3     27037\n",
       "T4      1542\n",
       "T6      1216\n",
       "T5      1173\n",
       "T19     1065\n",
       "T8       737\n",
       "T7       725\n",
       "T10      528\n",
       "T9       156\n",
       "T13       66\n",
       "T12       27\n",
       "T2        16\n",
       "T25        3\n",
       "T14        3\n",
       "T29        2\n",
       "T15        2\n",
       "T17        1\n",
       "Name: APPLICATION_TYPE, dtype: int64"
      ]
     },
     "execution_count": 4,
     "metadata": {},
     "output_type": "execute_result"
    }
   ],
   "source": [
    "# Look at APPLICATION_TYPE value counts for binning\n",
    "#  YOUR CODE GOES HERE\n",
    "app_df['APPLICATION_TYPE'].value_counts()"
   ]
  },
  {
   "cell_type": "code",
   "execution_count": 5,
   "metadata": {},
   "outputs": [
    {
     "data": {
      "text/plain": [
       "T3       27037\n",
       "T4        1542\n",
       "T6        1216\n",
       "T5        1173\n",
       "T19       1065\n",
       "OTHER      804\n",
       "T8         737\n",
       "T7         725\n",
       "Name: APPLICATION_TYPE, dtype: int64"
      ]
     },
     "execution_count": 5,
     "metadata": {},
     "output_type": "execute_result"
    }
   ],
   "source": [
    "# Choose a cutoff value and create a list of application types to be replaced\n",
    "# use the variable name `application_types_to_replace`\n",
    "#  YOUR CODE GOES HERE\n",
    "show_app= app_df['APPLICATION_TYPE'].value_counts()\n",
    "show_app= show_app[show_app < 529]\n",
    "show_app=show_app.copy()\n",
    "\n",
    "# Replace in dataframe\n",
    "def update_app(value):\n",
    "    if value in show_app: #['T9','T13','T12','T2','T25','T14','T29','T15','T17']:\n",
    "        return 'OTHER'\n",
    "    else:\n",
    "        return value\n",
    "app_df['APPLICATION_TYPE'] = app_df['APPLICATION_TYPE'].apply(update_app)\n",
    "app_df['APPLICATION_TYPE'].value_counts()\n",
    "\n",
    "# Check to make sure binning was successful\n",
    "app_df['APPLICATION_TYPE'].value_counts()"
   ]
  },
  {
   "cell_type": "code",
   "execution_count": 6,
   "metadata": {},
   "outputs": [
    {
     "data": {
      "text/plain": [
       "C1000    17326\n",
       "C2000     6074\n",
       "C1200     4837\n",
       "C3000     1918\n",
       "C2100     1883\n",
       "         ...  \n",
       "C4120        1\n",
       "C8210        1\n",
       "C2561        1\n",
       "C4500        1\n",
       "C2150        1\n",
       "Name: CLASSIFICATION, Length: 71, dtype: int64"
      ]
     },
     "execution_count": 6,
     "metadata": {},
     "output_type": "execute_result"
    }
   ],
   "source": [
    "# Look at CLASSIFICATION value counts for binning\n",
    "#  YOUR CODE GOES HERE\n",
    "app_df['CLASSIFICATION'].value_counts()"
   ]
  },
  {
   "cell_type": "code",
   "execution_count": 7,
   "metadata": {},
   "outputs": [
    {
     "data": {
      "text/plain": [
       "C1000    17326\n",
       "C2000     6074\n",
       "C1200     4837\n",
       "C3000     1918\n",
       "C2100     1883\n",
       "C7000      777\n",
       "C1700      287\n",
       "C4000      194\n",
       "C5000      116\n",
       "C1270      114\n",
       "C2700      104\n",
       "C2800       95\n",
       "C7100       75\n",
       "C1300       58\n",
       "C1280       50\n",
       "C1230       36\n",
       "C1400       34\n",
       "C7200       32\n",
       "C2300       32\n",
       "C1240       30\n",
       "C8000       20\n",
       "C7120       18\n",
       "C1500       16\n",
       "C1800       15\n",
       "C6000       15\n",
       "C1250       14\n",
       "C8200       11\n",
       "C1238       10\n",
       "C1278       10\n",
       "C1235        9\n",
       "C1237        9\n",
       "C7210        7\n",
       "C2400        6\n",
       "C1720        6\n",
       "C4100        6\n",
       "C1257        5\n",
       "C1600        5\n",
       "C1260        3\n",
       "C2710        3\n",
       "C0           3\n",
       "C3200        2\n",
       "C1234        2\n",
       "C1246        2\n",
       "C1267        2\n",
       "C1256        2\n",
       "Name: CLASSIFICATION, dtype: int64"
      ]
     },
     "execution_count": 7,
     "metadata": {},
     "output_type": "execute_result"
    }
   ],
   "source": [
    "# You may find it helpful to look at CLASSIFICATION value counts >1\n",
    "#  YOUR CODE GOES HERE\n",
    "# app_df['CLASSIFICATION'].value_counts()[app_df['CLASSIFICATION'].value_counts() > 1].sort_values(ascending=False)\n",
    "show_class= app_df['CLASSIFICATION'].value_counts().copy()\n",
    "show_class[show_class > 1]#.sort_values(ascending=False)"
   ]
  },
  {
   "cell_type": "code",
   "execution_count": 8,
   "metadata": {},
   "outputs": [
    {
     "data": {
      "text/plain": [
       "C1000    17326\n",
       "C2000     6074\n",
       "C1200     4837\n",
       "OTHER     2261\n",
       "C3000     1918\n",
       "C2100     1883\n",
       "Name: CLASSIFICATION, dtype: int64"
      ]
     },
     "execution_count": 8,
     "metadata": {},
     "output_type": "execute_result"
    }
   ],
   "source": [
    "# Choose a cutoff value and create a list of classifications to be replaced\n",
    "# use the variable name `classifications_to_replace`\n",
    "#  YOUR CODE GOES HERE\n",
    "show_class= show_class[show_class < 1883]\n",
    "show_class=show_class.copy()\n",
    "\n",
    "# Replace in dataframe\n",
    "def update_app(value):\n",
    "    if value in show_class:\n",
    "        return 'OTHER'\n",
    "    else:\n",
    "        return value\n",
    "app_df['CLASSIFICATION'] = app_df['CLASSIFICATION'].apply(update_app)\n",
    "app_df['CLASSIFICATION'].value_counts()\n",
    "    \n",
    "# Check to make sure binning was successful\n",
    "app_df['CLASSIFICATION'].value_counts()"
   ]
  },
  {
   "cell_type": "code",
   "execution_count": 9,
   "metadata": {},
   "outputs": [],
   "source": [
    "# Convert categorical data to numeric with `pd.get_dummies`\n",
    "#  YOUR CODE GOES HERE\n",
    "Do_not_touch = ['STATUS','IS_SUCCESSFUL']\n",
    "Do_touch = [\n",
    "    'APPLICATION_TYPE',\n",
    "    'AFFILIATION',\n",
    "    'CLASSIFICATION',\n",
    "    'USE_CASE',\n",
    "    'ORGANIZATION',\n",
    "    'INCOME_AMT',\n",
    "    'SPECIAL_CONSIDERATIONS',\n",
    "    'ASK_AMT'\n",
    "]\n",
    "\n",
    "# Apply pd.get_dummies() on the specified columns\n",
    "dummies = pd.get_dummies(app_df[Do_touch])\n",
    "\n",
    "# Concatenate the dummy variables with the original DataFrame\n",
    "app_df= pd.concat([app_df, dummies], axis=1)\n",
    "app_df= app_df.drop(columns=Do_touch)"
   ]
  },
  {
   "cell_type": "code",
   "execution_count": 10,
   "metadata": {},
   "outputs": [],
   "source": [
    "# Split our preprocessed data into our features and target arrays\n",
    "#  YOUR CODE GOES HERE\n",
    "X=app_df.drop(columns='IS_SUCCESSFUL')\n",
    "y=app_df['IS_SUCCESSFUL']\n",
    "# Split the preprocessed data into a training and testing dataset\n",
    "#  YOUR CODE GOES HERE\n",
    "X_train, X_test, y_train, y_test = train_test_split(X, y, random_state=10)"
   ]
  },
  {
   "cell_type": "code",
   "execution_count": 11,
   "metadata": {},
   "outputs": [],
   "source": [
    "# Create a StandardScaler instances\n",
    "scaler = StandardScaler()\n",
    "\n",
    "# Fit the StandardScaler\n",
    "xs= scaler.fit(X_train)\n",
    "\n",
    "# Scale the data\n",
    "X_train_scaled = xs.transform(X_train)\n",
    "X_test_scaled = xs.transform(X_test)"
   ]
  },
  {
   "cell_type": "markdown",
   "metadata": {},
   "source": [
    "## Compile, Train and Evaluate the Model"
   ]
  },
  {
   "cell_type": "code",
   "execution_count": 12,
   "metadata": {},
   "outputs": [],
   "source": [
    "# Define the model - deep neural net, i.e., the number of input features and hidden nodes for each layer.\n",
    "#  YOUR CODE GOES HERE\n",
    "nn = tf.keras.models.Sequential()\n",
    "\n",
    "# First hidden layer\n",
    "#  YOUR CODE GOES HERE\n",
    "nn.add(tf.keras.layers.Dense(units=100, input_dim=41, activation='relu'))#tanh\n",
    "\n",
    "# Second hidden layer\n",
    "#  YOUR CODE GOES HERE\n",
    "nn.add(tf.keras.layers.Dense(units=100, activation='relu'))\n",
    "nn.add(tf.keras.layers.Dense(units=100, activation='relu'))\n",
    "\n",
    "# Output layer\n",
    "#  YOUR CODE GOES HERE\n",
    "nn.add(tf.keras.layers.Dense(units=1, activation='sigmoid')) # Binary label prediction"
   ]
  },
  {
   "cell_type": "code",
   "execution_count": 13,
   "metadata": {},
   "outputs": [
    {
     "name": "stdout",
     "output_type": "stream",
     "text": [
      "Model: \"sequential\"\n",
      "_________________________________________________________________\n",
      " Layer (type)                Output Shape              Param #   \n",
      "=================================================================\n",
      " dense (Dense)               (None, 100)               4200      \n",
      "                                                                 \n",
      " dense_1 (Dense)             (None, 100)               10100     \n",
      "                                                                 \n",
      " dense_2 (Dense)             (None, 100)               10100     \n",
      "                                                                 \n",
      " dense_3 (Dense)             (None, 1)                 101       \n",
      "                                                                 \n",
      "=================================================================\n",
      "Total params: 24501 (95.71 KB)\n",
      "Trainable params: 24501 (95.71 KB)\n",
      "Non-trainable params: 0 (0.00 Byte)\n",
      "_________________________________________________________________\n"
     ]
    }
   ],
   "source": [
    "# Check the structure of the model\n",
    "nn.summary()"
   ]
  },
  {
   "cell_type": "code",
   "execution_count": 14,
   "metadata": {},
   "outputs": [],
   "source": [
    "# Compile the model\n",
    "#  YOUR CODE GOES HERE\n",
    "nn.compile(\n",
    "    loss = 'binary_crossentropy', # This loss function is needed for Binary label prediction\n",
    "    optimizer='adam', # The algorith for gradient descent\n",
    "    metrics=['accuracy'] # The metrics to improve the model\n",
    ")"
   ]
  },
  {
   "cell_type": "code",
   "execution_count": 15,
   "metadata": {},
   "outputs": [
    {
     "name": "stdout",
     "output_type": "stream",
     "text": [
      "Epoch 1/100\n",
      "804/804 [==============================] - 4s 3ms/step - loss: 0.5669 - accuracy: 0.7243\n",
      "Epoch 2/100\n",
      "804/804 [==============================] - 2s 3ms/step - loss: 0.5554 - accuracy: 0.7306\n",
      "Epoch 3/100\n",
      "804/804 [==============================] - 2s 3ms/step - loss: 0.5509 - accuracy: 0.7328\n",
      "Epoch 4/100\n",
      "804/804 [==============================] - 2s 3ms/step - loss: 0.5498 - accuracy: 0.7328\n",
      "Epoch 5/100\n",
      "804/804 [==============================] - 2s 3ms/step - loss: 0.5488 - accuracy: 0.7344\n",
      "Epoch 6/100\n",
      "804/804 [==============================] - 2s 3ms/step - loss: 0.5472 - accuracy: 0.7345\n",
      "Epoch 7/100\n",
      "804/804 [==============================] - 2s 3ms/step - loss: 0.5479 - accuracy: 0.7358\n",
      "Epoch 8/100\n",
      "804/804 [==============================] - 3s 3ms/step - loss: 0.5460 - accuracy: 0.7350\n",
      "Epoch 9/100\n",
      "804/804 [==============================] - 3s 4ms/step - loss: 0.5457 - accuracy: 0.7348\n",
      "Epoch 10/100\n",
      "804/804 [==============================] - 2s 3ms/step - loss: 0.5451 - accuracy: 0.7360\n",
      "Epoch 11/100\n",
      "804/804 [==============================] - 3s 3ms/step - loss: 0.5449 - accuracy: 0.7367\n",
      "Epoch 12/100\n",
      "804/804 [==============================] - 3s 3ms/step - loss: 0.5440 - accuracy: 0.7359\n",
      "Epoch 13/100\n",
      "804/804 [==============================] - 3s 3ms/step - loss: 0.5432 - accuracy: 0.7366\n",
      "Epoch 14/100\n",
      "804/804 [==============================] - 3s 3ms/step - loss: 0.5432 - accuracy: 0.7378\n",
      "Epoch 15/100\n",
      "804/804 [==============================] - 3s 3ms/step - loss: 0.5424 - accuracy: 0.7381\n",
      "Epoch 16/100\n",
      "804/804 [==============================] - 3s 3ms/step - loss: 0.5420 - accuracy: 0.7374\n",
      "Epoch 17/100\n",
      "804/804 [==============================] - 3s 3ms/step - loss: 0.5418 - accuracy: 0.7385\n",
      "Epoch 18/100\n",
      "804/804 [==============================] - 3s 3ms/step - loss: 0.5416 - accuracy: 0.7382\n",
      "Epoch 19/100\n",
      "804/804 [==============================] - 3s 3ms/step - loss: 0.5410 - accuracy: 0.7386\n",
      "Epoch 20/100\n",
      "804/804 [==============================] - 2s 3ms/step - loss: 0.5405 - accuracy: 0.7380\n",
      "Epoch 21/100\n",
      "804/804 [==============================] - 3s 3ms/step - loss: 0.5405 - accuracy: 0.7390\n",
      "Epoch 22/100\n",
      "804/804 [==============================] - 3s 3ms/step - loss: 0.5405 - accuracy: 0.7386\n",
      "Epoch 23/100\n",
      "804/804 [==============================] - 3s 3ms/step - loss: 0.5404 - accuracy: 0.7393\n",
      "Epoch 24/100\n",
      "804/804 [==============================] - 3s 3ms/step - loss: 0.5397 - accuracy: 0.7402\n",
      "Epoch 25/100\n",
      "804/804 [==============================] - 3s 3ms/step - loss: 0.5394 - accuracy: 0.7395\n",
      "Epoch 26/100\n",
      "804/804 [==============================] - 3s 3ms/step - loss: 0.5397 - accuracy: 0.7386\n",
      "Epoch 27/100\n",
      "804/804 [==============================] - 3s 3ms/step - loss: 0.5389 - accuracy: 0.7390\n",
      "Epoch 28/100\n",
      "804/804 [==============================] - 3s 3ms/step - loss: 0.5392 - accuracy: 0.7395\n",
      "Epoch 29/100\n",
      "804/804 [==============================] - 3s 3ms/step - loss: 0.5378 - accuracy: 0.7408\n",
      "Epoch 30/100\n",
      "804/804 [==============================] - 3s 3ms/step - loss: 0.5383 - accuracy: 0.7400\n",
      "Epoch 31/100\n",
      "804/804 [==============================] - 3s 3ms/step - loss: 0.5381 - accuracy: 0.7405\n",
      "Epoch 32/100\n",
      "804/804 [==============================] - 3s 3ms/step - loss: 0.5380 - accuracy: 0.7400\n",
      "Epoch 33/100\n",
      "804/804 [==============================] - 3s 3ms/step - loss: 0.5374 - accuracy: 0.7404\n",
      "Epoch 34/100\n",
      "804/804 [==============================] - 3s 3ms/step - loss: 0.5366 - accuracy: 0.7400\n",
      "Epoch 35/100\n",
      "804/804 [==============================] - 3s 3ms/step - loss: 0.5374 - accuracy: 0.7404\n",
      "Epoch 36/100\n",
      "804/804 [==============================] - 3s 3ms/step - loss: 0.5368 - accuracy: 0.7407\n",
      "Epoch 37/100\n",
      "804/804 [==============================] - 3s 3ms/step - loss: 0.5369 - accuracy: 0.7409\n",
      "Epoch 38/100\n",
      "804/804 [==============================] - 3s 3ms/step - loss: 0.5366 - accuracy: 0.7403\n",
      "Epoch 39/100\n",
      "804/804 [==============================] - 3s 3ms/step - loss: 0.5363 - accuracy: 0.7410\n",
      "Epoch 40/100\n",
      "804/804 [==============================] - 3s 4ms/step - loss: 0.5362 - accuracy: 0.7405\n",
      "Epoch 41/100\n",
      "804/804 [==============================] - 3s 3ms/step - loss: 0.5360 - accuracy: 0.7409\n",
      "Epoch 42/100\n",
      "804/804 [==============================] - 3s 3ms/step - loss: 0.5356 - accuracy: 0.7407\n",
      "Epoch 43/100\n",
      "804/804 [==============================] - 3s 3ms/step - loss: 0.5359 - accuracy: 0.7404\n",
      "Epoch 44/100\n",
      "804/804 [==============================] - 3s 4ms/step - loss: 0.5355 - accuracy: 0.7409\n",
      "Epoch 45/100\n",
      "804/804 [==============================] - 3s 3ms/step - loss: 0.5352 - accuracy: 0.7414\n",
      "Epoch 46/100\n",
      "804/804 [==============================] - 3s 4ms/step - loss: 0.5352 - accuracy: 0.7409\n",
      "Epoch 47/100\n",
      "804/804 [==============================] - 3s 4ms/step - loss: 0.5351 - accuracy: 0.7411\n",
      "Epoch 48/100\n",
      "804/804 [==============================] - 3s 4ms/step - loss: 0.5350 - accuracy: 0.7406\n",
      "Epoch 49/100\n",
      "804/804 [==============================] - 3s 3ms/step - loss: 0.5348 - accuracy: 0.7409\n",
      "Epoch 50/100\n",
      "804/804 [==============================] - 3s 3ms/step - loss: 0.5349 - accuracy: 0.7411\n",
      "Epoch 51/100\n",
      "804/804 [==============================] - 2s 3ms/step - loss: 0.5349 - accuracy: 0.7411\n",
      "Epoch 52/100\n",
      "804/804 [==============================] - 2s 3ms/step - loss: 0.5345 - accuracy: 0.7411\n",
      "Epoch 53/100\n",
      "804/804 [==============================] - 2s 3ms/step - loss: 0.5347 - accuracy: 0.7414\n",
      "Epoch 54/100\n",
      "804/804 [==============================] - 2s 3ms/step - loss: 0.5348 - accuracy: 0.7410\n",
      "Epoch 55/100\n",
      "804/804 [==============================] - 3s 4ms/step - loss: 0.5343 - accuracy: 0.7408\n",
      "Epoch 56/100\n",
      "804/804 [==============================] - 4s 5ms/step - loss: 0.5344 - accuracy: 0.7410\n",
      "Epoch 57/100\n",
      "804/804 [==============================] - 4s 5ms/step - loss: 0.5338 - accuracy: 0.7413\n",
      "Epoch 58/100\n",
      "804/804 [==============================] - 3s 3ms/step - loss: 0.5337 - accuracy: 0.7413\n",
      "Epoch 59/100\n",
      "804/804 [==============================] - 2s 3ms/step - loss: 0.5341 - accuracy: 0.7415\n",
      "Epoch 60/100\n",
      "804/804 [==============================] - 2s 3ms/step - loss: 0.5336 - accuracy: 0.7413\n",
      "Epoch 61/100\n",
      "804/804 [==============================] - 2s 3ms/step - loss: 0.5341 - accuracy: 0.7414\n",
      "Epoch 62/100\n",
      "804/804 [==============================] - 3s 3ms/step - loss: 0.5343 - accuracy: 0.7418\n",
      "Epoch 63/100\n",
      "804/804 [==============================] - 3s 3ms/step - loss: 0.5341 - accuracy: 0.7418\n",
      "Epoch 64/100\n",
      "804/804 [==============================] - 2s 3ms/step - loss: 0.5331 - accuracy: 0.7416\n",
      "Epoch 65/100\n",
      "804/804 [==============================] - 2s 3ms/step - loss: 0.5337 - accuracy: 0.7414\n",
      "Epoch 66/100\n",
      "804/804 [==============================] - 3s 3ms/step - loss: 0.5346 - accuracy: 0.7417\n",
      "Epoch 67/100\n",
      "804/804 [==============================] - 3s 3ms/step - loss: 0.5332 - accuracy: 0.7414\n",
      "Epoch 68/100\n",
      "804/804 [==============================] - 2s 3ms/step - loss: 0.5343 - accuracy: 0.7417\n",
      "Epoch 69/100\n",
      "804/804 [==============================] - 2s 3ms/step - loss: 0.5334 - accuracy: 0.7409\n",
      "Epoch 70/100\n",
      "804/804 [==============================] - 2s 3ms/step - loss: 0.5331 - accuracy: 0.7418\n",
      "Epoch 71/100\n",
      "804/804 [==============================] - 3s 3ms/step - loss: 0.5331 - accuracy: 0.7415\n",
      "Epoch 72/100\n",
      "804/804 [==============================] - 3s 4ms/step - loss: 0.5325 - accuracy: 0.7416\n",
      "Epoch 73/100\n",
      "804/804 [==============================] - 4s 4ms/step - loss: 0.5336 - accuracy: 0.7415\n",
      "Epoch 74/100\n",
      "804/804 [==============================] - 3s 4ms/step - loss: 0.5333 - accuracy: 0.7418\n",
      "Epoch 75/100\n",
      "804/804 [==============================] - 3s 4ms/step - loss: 0.5328 - accuracy: 0.7414\n",
      "Epoch 76/100\n",
      "804/804 [==============================] - 3s 3ms/step - loss: 0.5435 - accuracy: 0.7414\n",
      "Epoch 77/100\n",
      "804/804 [==============================] - 3s 3ms/step - loss: 0.5324 - accuracy: 0.7417\n",
      "Epoch 78/100\n",
      "804/804 [==============================] - 3s 3ms/step - loss: 0.5326 - accuracy: 0.7417\n",
      "Epoch 79/100\n",
      "804/804 [==============================] - 3s 3ms/step - loss: 0.5322 - accuracy: 0.7418\n",
      "Epoch 80/100\n",
      "804/804 [==============================] - 3s 3ms/step - loss: 0.5321 - accuracy: 0.7418\n",
      "Epoch 81/100\n",
      "804/804 [==============================] - 3s 3ms/step - loss: 0.5328 - accuracy: 0.7419\n",
      "Epoch 82/100\n",
      "804/804 [==============================] - 3s 3ms/step - loss: 0.5323 - accuracy: 0.7419\n",
      "Epoch 83/100\n",
      "804/804 [==============================] - 3s 3ms/step - loss: 0.5322 - accuracy: 0.7419\n",
      "Epoch 84/100\n",
      "804/804 [==============================] - 3s 3ms/step - loss: 0.5339 - accuracy: 0.7412\n",
      "Epoch 85/100\n",
      "804/804 [==============================] - 3s 3ms/step - loss: 0.5324 - accuracy: 0.7413\n",
      "Epoch 86/100\n",
      "804/804 [==============================] - 3s 3ms/step - loss: 0.5326 - accuracy: 0.7414\n",
      "Epoch 87/100\n",
      "804/804 [==============================] - 3s 3ms/step - loss: 0.5327 - accuracy: 0.7418\n",
      "Epoch 88/100\n",
      "804/804 [==============================] - 3s 3ms/step - loss: 0.5324 - accuracy: 0.7423\n",
      "Epoch 89/100\n",
      "804/804 [==============================] - 3s 3ms/step - loss: 0.5324 - accuracy: 0.7413\n",
      "Epoch 90/100\n",
      "804/804 [==============================] - 3s 3ms/step - loss: 0.5322 - accuracy: 0.7421\n",
      "Epoch 91/100\n",
      "804/804 [==============================] - 3s 3ms/step - loss: 0.5336 - accuracy: 0.7413\n",
      "Epoch 92/100\n",
      "804/804 [==============================] - 3s 3ms/step - loss: 0.5331 - accuracy: 0.7420\n",
      "Epoch 93/100\n",
      "804/804 [==============================] - 3s 3ms/step - loss: 0.5326 - accuracy: 0.7423\n",
      "Epoch 94/100\n",
      "804/804 [==============================] - 3s 3ms/step - loss: 0.5327 - accuracy: 0.7423\n",
      "Epoch 95/100\n",
      "804/804 [==============================] - 3s 3ms/step - loss: 0.5322 - accuracy: 0.7422\n",
      "Epoch 96/100\n",
      "804/804 [==============================] - 3s 3ms/step - loss: 0.5321 - accuracy: 0.7419\n",
      "Epoch 97/100\n",
      "804/804 [==============================] - 3s 3ms/step - loss: 0.5319 - accuracy: 0.7420\n",
      "Epoch 98/100\n",
      "804/804 [==============================] - 3s 4ms/step - loss: 0.5319 - accuracy: 0.7420\n",
      "Epoch 99/100\n",
      "804/804 [==============================] - 3s 3ms/step - loss: 0.5320 - accuracy: 0.7418\n",
      "Epoch 100/100\n",
      "804/804 [==============================] - 2s 3ms/step - loss: 0.5324 - accuracy: 0.7425\n"
     ]
    },
    {
     "data": {
      "text/plain": [
       "<keras.src.callbacks.History at 0x21d67ffd1f0>"
      ]
     },
     "execution_count": 15,
     "metadata": {},
     "output_type": "execute_result"
    }
   ],
   "source": [
    "# Train the model\n",
    "#  YOUR CODE GOES HERE\n",
    "nn.fit(X_train_scaled, y_train, epochs=100)"
   ]
  },
  {
   "cell_type": "markdown",
   "metadata": {},
   "source": [
    "# After multiple tries the best I can find was 74.25"
   ]
  },
  {
   "cell_type": "code",
   "execution_count": 16,
   "metadata": {},
   "outputs": [
    {
     "name": "stdout",
     "output_type": "stream",
     "text": [
      "268/268 - 1s - loss: 0.5914 - accuracy: 0.7262 - 761ms/epoch - 3ms/step\n",
      "Loss: 0.5913605690002441, Accuracy: 0.7261807322502136\n"
     ]
    }
   ],
   "source": [
    "# Evaluate the model using the test data\n",
    "model_loss, model_accuracy = nn.evaluate(X_test_scaled,y_test,verbose=2)\n",
    "print(f\"Loss: {model_loss}, Accuracy: {model_accuracy}\")"
   ]
  },
  {
   "cell_type": "code",
   "execution_count": 17,
   "metadata": {},
   "outputs": [
    {
     "name": "stdout",
     "output_type": "stream",
     "text": [
      "Model saved to :  AlphabetSoupCharity_Optimization.h5\n"
     ]
    },
    {
     "name": "stderr",
     "output_type": "stream",
     "text": [
      "c:\\Users\\pammo\\anaconda3\\lib\\site-packages\\keras\\src\\engine\\training.py:3000: UserWarning: You are saving your model as an HDF5 file via `model.save()`. This file format is considered legacy. We recommend using instead the native Keras format, e.g. `model.save('my_model.keras')`.\n",
      "  saving_api.save_model(\n"
     ]
    }
   ],
   "source": [
    "# Export our model to HDF5 file\n",
    "#  YOUR CODE GOES HERE\n",
    "import h5py\n",
    "hdf5_filename = 'AlphabetSoupCharity_Optimization.h5'\n",
    "nn.save(hdf5_filename)\n",
    "print('Model saved to : ',hdf5_filename)"
   ]
  }
 ],
 "metadata": {
  "kernelspec": {
   "display_name": "Python 3",
   "language": "python",
   "name": "python3"
  },
  "language_info": {
   "codemirror_mode": {
    "name": "ipython",
    "version": 3
   },
   "file_extension": ".py",
   "mimetype": "text/x-python",
   "name": "python",
   "nbconvert_exporter": "python",
   "pygments_lexer": "ipython3",
   "version": "3.9.13"
  },
  "vscode": {
   "interpreter": {
    "hash": "31f2aee4e71d21fbe5cf8b01ff0e069b9275f58929596ceb00d14d90e3e16cd6"
   }
  }
 },
 "nbformat": 4,
 "nbformat_minor": 4
}
